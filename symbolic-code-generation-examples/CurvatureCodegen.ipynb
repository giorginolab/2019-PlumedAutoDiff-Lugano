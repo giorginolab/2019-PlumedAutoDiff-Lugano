{
 "cells": [
  {
   "cell_type": "markdown",
   "metadata": {},
   "source": [
    "# Radius of curvature: code generation with a computer algebra system\n",
    "\n",
    "Demonstrate the automatic generation of code to compute the radius of curvature and its gradients for use in a collective variable with [PLUMED2](http://www.plumed.org/). It is a companion file to the following paper:\n",
    "\n",
    "> T. Giorgino. How to Differentiate Collective Variables in Free Energy Codes: Computer-Algebra Code Generation and Automatic Differentiation. Comp. Phys. Comm. (submitted).\n",
    "\n",
    "This code uses the [SymPy](http://www.sympy.org/) computer algebra system (tested on version 1.0). See the website for installation instructions. A convenient way to install is via [Conda](https://conda.io/).  \n",
    "\n",
    "The  notebook can be executed interactively pressing shift-enter on each cell, or in batch using the `jupyter nbconvert --execute` command line. If you are reading the PDF version of this file, its runnable version is found in PLUMED 2's tree at `src/curvature/sympy_codegen/CurvatureCodegen.ipynb`.\n",
    "\n"
   ]
  },
  {
   "cell_type": "markdown",
   "metadata": {},
   "source": [
    "## Standard SymPy initialization"
   ]
  },
  {
   "cell_type": "code",
   "execution_count": 3,
   "metadata": {},
   "outputs": [],
   "source": [
    "from sympy import *\n",
    "init_printing()"
   ]
  },
  {
   "cell_type": "markdown",
   "metadata": {},
   "source": [
    "## Variable declaration\n",
    "Declare vectors `r_1`, `r_2` and `r_3`. Each has components `x`, `y` and `z`. They correspond to the paper's $\\mathbf{r}_i$. "
   ]
  },
  {
   "cell_type": "code",
   "execution_count": 2,
   "metadata": {},
   "outputs": [],
   "source": [
    "var(\"r_1x r_1y r_1z \\\n",
    "     r_2x r_2y r_2z \\\n",
    "     r_3x r_3y r_3z\")\n",
    "r_1=Matrix([r_1x, r_1y, r_1z])\n",
    "r_2=Matrix([r_2x, r_2y, r_2z])  \n",
    "r_3=Matrix([r_3x, r_3y, r_3z])"
   ]
  },
  {
   "cell_type": "markdown",
   "metadata": {},
   "source": [
    "Also define vectors $r_{ij}$ as shorthands for the triangle sides. They correspond to $\\mathbf r_{12}$, $\\mathbf r_{23}$ and $\\mathbf r_{13}$ in the paper (order and direction is irrelevant for this calculation)."
   ]
  },
  {
   "cell_type": "code",
   "execution_count": 3,
   "metadata": {},
   "outputs": [],
   "source": [
    "r_12=r_1-r_2\n",
    "r_23=r_2-r_3\n",
    "r_13=r_1-r_3"
   ]
  },
  {
   "cell_type": "markdown",
   "metadata": {},
   "source": [
    "The actual calculation uses the sine theorem for triangles:\n",
    "\n",
    "$$\n",
    " 2 R  = \\frac { |\\mathbf r_{13}| }{\\sin \\theta_{123}} \\qquad \\mbox{with} \\qquad\n",
    " \\cos \\theta_{123} = \\frac{ \\mathbf r_{12} \\cdot \\mathbf r_{23} }{  |\\mathbf r_{12} | |\\mathbf r_{23} | }\n",
    "$$\n"
   ]
  },
  {
   "cell_type": "code",
   "execution_count": 4,
   "metadata": {},
   "outputs": [
    {
     "data": {
      "image/png": "[encoded data removed]",
      "text/latex": [
       "$$\\frac{1}{2} \\sqrt{\\frac{\\left(r_{1x} - r_{3x}\\right)^{2} + \\left(r_{1y} - r_{3y}\\right)^{2} + \\left(r_{1z} - r_{3z}\\right)^{2}}{- \\frac{\\left(\\left(r_{1x} - r_{2x}\\right) \\left(r_{2x} - r_{3x}\\right) + \\left(r_{1y} - r_{2y}\\right) \\left(r_{2y} - r_{3y}\\right) + \\left(r_{1z} - r_{2z}\\right) \\left(r_{2z} - r_{3z}\\right)\\right)^{2}}{\\left(\\left(r_{1x} - r_{2x}\\right)^{2} + \\left(r_{1y} - r_{2y}\\right)^{2} + \\left(r_{1z} - r_{2z}\\right)^{2}\\right) \\left(\\left(r_{2x} - r_{3x}\\right)^{2} + \\left(r_{2y} - r_{3y}\\right)^{2} + \\left(r_{2z} - r_{3z}\\right)^{2}\\right)} + 1}}$$"
      ],
      "text/plain": [
       "         _____________________________________________________________________\n",
       "        ╱                                         2                2          \n",
       "       ╱                               (r₁ₓ - r₃ₓ)  + (r_1y - r_3y)  + (r_1z -\n",
       "      ╱   ────────────────────────────────────────────────────────────────────\n",
       "     ╱                                                                        \n",
       "    ╱             ((r₁ₓ - r₂ₓ)⋅(r₂ₓ - r₃ₓ) + (r_1y - r_2y)⋅(r_2y - r_3y) + (r_\n",
       "   ╱      - ──────────────────────────────────────────────────────────────────\n",
       "  ╱         ⎛           2                2                2⎞ ⎛           2    \n",
       "╲╱          ⎝(r₁ₓ - r₂ₓ)  + (r_1y - r_2y)  + (r_1z - r_2z) ⎠⋅⎝(r₂ₓ - r₃ₓ)  + (\n",
       "──────────────────────────────────────────────────────────────────────────────\n",
       "                                                        2                     \n",
       "\n",
       "____________________________________\n",
       "      2                             \n",
       " r_3z)                              \n",
       "─────────────────────────────────── \n",
       "                         2          \n",
       "1z - r_2z)⋅(r_2z - r_3z))           \n",
       "─────────────────────────────── + 1 \n",
       "            2                2⎞     \n",
       "r_2y - r_3y)  + (r_2z - r_3z) ⎠     \n",
       "────────────────────────────────────\n",
       "                                    "
      ]
     },
     "execution_count": 4,
     "metadata": {},
     "output_type": "execute_result"
    }
   ],
   "source": [
    "side2 = r_13.dot(r_13)\n",
    "cos2a = r_12.dot(r_23)**2 / (r_12.dot(r_12) * r_23.dot(r_23))\n",
    "sin2a = 1-cos2a\n",
    "\n",
    "R2 = side2/sin2a/4\n",
    "\n",
    "R=sqrt(R2)\n",
    "R"
   ]
  },
  {
   "cell_type": "markdown",
   "metadata": {},
   "source": [
    "## Compute gradients and generate code\n",
    "\n",
    "Gradients are computed via the `derive_by_array` function. "
   ]
  },
  {
   "cell_type": "code",
   "execution_count": 53,
   "metadata": {},
   "outputs": [],
   "source": [
    "from sympy.tensor.array import derive_by_array\n",
    "mgrad_1=derive_by_array(R,r_1).tomatrix()\n",
    "mgrad_2=derive_by_array(R,r_2).tomatrix()\n",
    "mgrad_3=derive_by_array(R,r_3).tomatrix()\n",
    "\n",
    "# Use e.g. mgrad_1 to print the expressions. They are several lines long."
   ]
  },
  {
   "cell_type": "markdown",
   "metadata": {},
   "source": [
    "Code generation is performed with the  `codegen()` function, which will write `R` and the components of `mgrad_*` in the files `curvature_codegen.*`. "
   ]
  },
  {
   "cell_type": "code",
   "execution_count": 6,
   "metadata": {
    "collapsed": true
   },
   "outputs": [],
   "source": [
    "from sympy.utilities.codegen import codegen\n",
    "codegen([ (\"curvature_radius\",R),\n",
    "          (\"curvature_radius_grad\",  [ \n",
    "                Eq(MatrixSymbol(\"g1\",3,1),mgrad_1),\n",
    "                Eq(MatrixSymbol(\"g2\",3,1),mgrad_2),\n",
    "                Eq(MatrixSymbol(\"g3\",3,1),mgrad_3) ])],\n",
    "             to_files=True,\n",
    "             prefix=\"curvature_codegen\",\n",
    "             project=\"plumed_curvature\",\n",
    "             language=\"C\")"
   ]
  },
  {
   "cell_type": "markdown",
   "metadata": {},
   "source": [
    "This concludes the code generation necessary for implementation. Code is now in `curvature_codegen.[ch]`.  Include it and call the `curvature_radius` and `curvature_radius_grad` functions from the collective variable C++ files. See the code in `src/curvature-codegen/Curvature.cpp` and the other source files in the same directory.\n",
    "\n",
    "\n",
    "**Note 1.** The generated code is somewhat redundant and therefore relies on the *common subexpression elimination* optimization pass of the compiler. The later section [Common Subexpression Elimination](#Common-subexpression-elimination) demonstrates how to leverage SymPy's high-level CSE instead.\n",
    "\n",
    "**Note 2.** Here we took an hands-off approach and differentiate with respect to the coordinates of each atom.  Differentiating with respect to pairwise distances is also an option - see the section [Gradients with respect to distances](#Gradients-with-respect-to-distances) at the end of the notebook.\n"
   ]
  },
  {
   "cell_type": "markdown",
   "metadata": {},
   "source": [
    "# Common subexpression elimination\n",
    "\n",
    "Here we use SymPy's `cse()` function to generate C code where reused intermediate results are \"factored out\" in temporary variables. Post-CSE code generation is currently not as straightforward as it could be, because the temporary assignments need to be converted one by one. See also [here](https://stackoverflow.com/questions/43442940/common-sub-expression-elimination-using-sympy) and [here](http://www.sympy.org/scipy-2017-codegen-tutorial/notebooks/07-the-hard-way.html)."
   ]
  },
  {
   "cell_type": "code",
   "execution_count": 16,
   "metadata": {},
   "outputs": [],
   "source": [
    "from sympy.tensor.array import derive_by_array\n",
    "from sympy.utilities.codegen import codegen\n",
    "\n",
    "X = Matrix([r_1,r_2,r_3])\n",
    "grad= derive_by_array(R,X).tomatrix()\n",
    "grad_cse=cse(grad,symbols=numbered_symbols('p'),optimizations=\"basic\")"
   ]
  },
  {
   "cell_type": "code",
   "execution_count": 17,
   "metadata": {},
   "outputs": [],
   "source": [
    "codegen( (\"curvature_radius\",R),\n",
    "             to_files=True,\n",
    "             prefix=\"curvature_codegen_cse\",\n",
    "             project=\"plumed_curvature\",\n",
    "             language=\"C\")"
   ]
  },
  {
   "cell_type": "code",
   "execution_count": 18,
   "metadata": {},
   "outputs": [],
   "source": [
    "with open(\"curvature_codegen_cse.c\", \"a\") as output:\n",
    "    output.write(\"void curvature_radius_grad(double r_1x, double r_1y, double r_1z, \\n\"\n",
    "                 \"    double r_2x, double r_2y, double r_2z,   \\n\"\n",
    "                 \"    double r_3x, double r_3y, double r_3z,   \\n\"\n",
    "                 \"    double *g1, double *g2, double *g3)    { \\n\")\n",
    "    for helper in grad_cse[0]:\n",
    "        output.write(\"\\tdouble \"+ccode(helper[1],assign_to=helper[0])+\"\\n\")\n",
    "\n",
    "    output.write(ccode(grad_cse[1][0][0:3,0],assign_to=MatrixSymbol('g1',3,1))+\"\\n\"+ \n",
    "                 ccode(grad_cse[1][0][3:6,0],assign_to=MatrixSymbol('g2',3,1))+\"\\n\"+\n",
    "                 ccode(grad_cse[1][0][6:9,0],assign_to=MatrixSymbol('g3',3,1))+\"\\n\")\n",
    "    output.write(\"}\")\n"
   ]
  },
  {
   "cell_type": "markdown",
   "metadata": {},
   "source": [
    "# Tests\n",
    "\n",
    "This section shows a variety of tests used to validate the expressions.\n",
    "\n",
    "## Value of the radius\n",
    "\n",
    "An example which can be hand-checked: three points equally spaced on a circle of radius 2.5. The first is at $\\theta_1=0$, the second at π/15, the third at 2π/15."
   ]
  },
  {
   "cell_type": "code",
   "execution_count": 35,
   "metadata": {},
   "outputs": [],
   "source": [
    "tt=2*pi/30\n",
    "tr= Rational(25,10)      # =2.5, but treat as a fraction, not a floating point number\n",
    "X = Matrix([r_1.T,r_2.T,r_3.T])\n",
    "grad= derive_by_array(R,X).tomatrix()"
   ]
  },
  {
   "cell_type": "code",
   "execution_count": 8,
   "metadata": {},
   "outputs": [
    {
     "data": {
      "image/png": "[encoded data removed]",
      "text/latex": [
       "$$2.5$$"
      ],
      "text/plain": [
       "2.50000000000000"
      ]
     },
     "execution_count": 8,
     "metadata": {},
     "output_type": "execute_result"
    }
   ],
   "source": [
    "ta=tr*Matrix([1,0,0])\n",
    "tb=tr*Matrix([cos(tt),sin(tt),0])\n",
    "tc=tr*Matrix([cos(2*tt),sin(2*tt),0])\n",
    "\n",
    "R.subs([(r_1x,ta[0]),(r_1y,ta[1]),(r_1z,ta[2]),\n",
    "        (r_2x,tb[0]),(r_2y,tb[1]),(r_2z,tb[2]),\n",
    "        (r_3x,tc[0]),(r_3y,tc[1]),(r_3z,tc[2]) ]).evalf()"
   ]
  },
  {
   "cell_type": "markdown",
   "metadata": {},
   "source": [
    "## Value of the gradient"
   ]
  },
  {
   "cell_type": "code",
   "execution_count": 9,
   "metadata": {},
   "outputs": [
    {
     "data": {
      "image/png": "[encoded data removed]",
      "text/latex": [
       "$$\\left[\\begin{matrix}22.8807827419436 & 8.0 \\cdot 10^{-124} & 0\\\\-43.7834178831533 & -9.30645276340483 & 0\\\\20.9026351412097 & 9.30645276340483 & 0\\end{matrix}\\right]$$"
      ],
      "text/plain": [
       "⎡22.8807827419436        0.e-123       0⎤\n",
       "⎢                                       ⎥\n",
       "⎢-43.7834178831533  -9.30645276340483  0⎥\n",
       "⎢                                       ⎥\n",
       "⎣20.9026351412097   9.30645276340483   0⎦"
      ]
     },
     "execution_count": 9,
     "metadata": {},
     "output_type": "execute_result"
    }
   ],
   "source": [
    "grad.subs([(r_1x,ta[0]),(r_1y,ta[1]),(r_1z,ta[2]),\n",
    "           (r_2x,tb[0]),(r_2y,tb[1]),(r_2z,tb[2]),\n",
    "           (r_3x,tc[0]),(r_3y,tc[1]),(r_3z,tc[2]) ]).evalf()\n"
   ]
  },
  {
   "cell_type": "markdown",
   "metadata": {},
   "source": [
    "The gradient component at (1,2) is not exactly zero because the simplifier may not have recognized that some terms could be cancelled."
   ]
  },
  {
   "cell_type": "markdown",
   "metadata": {},
   "source": [
    "## Value of the inverse radius and its gradient"
   ]
  },
  {
   "cell_type": "code",
   "execution_count": 10,
   "metadata": {
    "collapsed": true
   },
   "outputs": [],
   "source": [
    "ir=1/R\n",
    "ir_grad=derive_by_array(ir,X).tomatrix()"
   ]
  },
  {
   "cell_type": "code",
   "execution_count": 11,
   "metadata": {},
   "outputs": [
    {
     "data": {
      "image/png": "[encoded data removed]",
      "text/latex": [
       "$$0.4$$"
      ],
      "text/plain": [
       "0.400000000000000"
      ]
     },
     "execution_count": 11,
     "metadata": {},
     "output_type": "execute_result"
    }
   ],
   "source": [
    "ir.subs([(r_1x,ta[0]),(r_1y,ta[1]),(r_1z,ta[2]),\n",
    "         (r_2x,tb[0]),(r_2y,tb[1]),(r_2z,tb[2]),\n",
    "         (r_3x,tc[0]),(r_3y,tc[1]),(r_3z,tc[2]) ]).evalf()"
   ]
  },
  {
   "cell_type": "code",
   "execution_count": 12,
   "metadata": {},
   "outputs": [
    {
     "data": {
      "image/png": "[encoded data removed]",
      "text/latex": [
       "$$\\left[\\begin{matrix}-3.66092523871097 & 9.0 \\cdot 10^{-125} & 0\\\\7.00534686130453 & 1.48903244214477 & 0\\\\-3.34442162259356 & -1.48903244214477 & 0\\end{matrix}\\right]$$"
      ],
      "text/plain": [
       "⎡-3.66092523871097       0.e-124       0⎤\n",
       "⎢                                       ⎥\n",
       "⎢7.00534686130453   1.48903244214477   0⎥\n",
       "⎢                                       ⎥\n",
       "⎣-3.34442162259356  -1.48903244214477  0⎦"
      ]
     },
     "execution_count": 12,
     "metadata": {},
     "output_type": "execute_result"
    }
   ],
   "source": [
    "ir_grad.subs([(r_1x,ta[0]),(r_1y,ta[1]),(r_1z,ta[2]),\n",
    "              (r_2x,tb[0]),(r_2y,tb[1]),(r_2z,tb[2]),\n",
    "              (r_3x,tc[0]),(r_3y,tc[1]),(r_3z,tc[2]) ]).evalf()"
   ]
  },
  {
   "cell_type": "markdown",
   "metadata": {},
   "source": [
    "## Limits to infinite curvature (collinearity)\n",
    "### Radius"
   ]
  },
  {
   "cell_type": "code",
   "execution_count": 13,
   "metadata": {
    "collapsed": true
   },
   "outputs": [],
   "source": [
    "u=Symbol(\"u\")\n",
    "ua=Matrix([-1,0,0])\n",
    "ub=Matrix([1,0,0])\n",
    "uc=Matrix([0,u,0])"
   ]
  },
  {
   "cell_type": "code",
   "execution_count": 14,
   "metadata": {},
   "outputs": [
    {
     "data": {
      "image/png": "[encoded data removed]",
      "text/latex": [
       "$$\\left[\\begin{matrix}- \\frac{\\sqrt{\\frac{1}{u^{2}} \\left(u^{2} + 1\\right)^{2}}}{2 u^{2} + 2} & \\frac{\\sqrt{\\frac{1}{u^{2}} \\left(u^{2} + 1\\right)^{2}} \\left(- u^{2} + 1\\right)}{4 u \\left(u^{2} + 1\\right)} & 0\\\\\\frac{\\sqrt{u^{2} + 2 + \\frac{1}{u^{2}}}}{2 u^{2} + 2} & \\frac{\\sqrt{\\frac{1}{u^{2}} \\left(u^{2} + 1\\right)^{2}} \\left(- u^{2} + 1\\right)}{4 u \\left(u^{2} + 1\\right)} & 0\\\\0 & \\frac{\\sqrt{\\frac{1}{u^{2}} \\left(u^{4} + 2 u^{2} + 1\\right)} \\left(u^{2} - 1\\right)}{2 u \\left(u^{2} + 1\\right)} & 0\\end{matrix}\\right]$$"
      ],
      "text/plain": [
       "⎡        ___________          ___________               ⎤\n",
       "⎢       ╱         2          ╱         2                ⎥\n",
       "⎢      ╱  ⎛ 2    ⎞          ╱  ⎛ 2    ⎞                 ⎥\n",
       "⎢     ╱   ⎝u  + 1⎠         ╱   ⎝u  + 1⎠   ⎛   2    ⎞    ⎥\n",
       "⎢-   ╱    ─────────       ╱    ───────── ⋅⎝- u  + 1⎠    ⎥\n",
       "⎢   ╱          2         ╱          2                   ⎥\n",
       "⎢ ╲╱          u        ╲╱          u                    ⎥\n",
       "⎢────────────────────  ─────────────────────────────   0⎥\n",
       "⎢         2                         ⎛ 2    ⎞            ⎥\n",
       "⎢      2⋅u  + 2                 4⋅u⋅⎝u  + 1⎠            ⎥\n",
       "⎢                                                       ⎥\n",
       "⎢                             ___________               ⎥\n",
       "⎢                            ╱         2                ⎥\n",
       "⎢      _____________        ╱  ⎛ 2    ⎞                 ⎥\n",
       "⎢     ╱  2       1         ╱   ⎝u  + 1⎠   ⎛   2    ⎞    ⎥\n",
       "⎢    ╱  u  + 2 + ──       ╱    ───────── ⋅⎝- u  + 1⎠    ⎥\n",
       "⎢   ╱             2      ╱          2                   ⎥\n",
       "⎢ ╲╱             u     ╲╱          u                    ⎥\n",
       "⎢ ──────────────────   ─────────────────────────────   0⎥\n",
       "⎢       ⎛ 2    ⎞                    ⎛ 2    ⎞            ⎥\n",
       "⎢     2⋅⎝u  + 1⎠                4⋅u⋅⎝u  + 1⎠            ⎥\n",
       "⎢                                                       ⎥\n",
       "⎢                            _______________            ⎥\n",
       "⎢                           ╱  4      2                 ⎥\n",
       "⎢                          ╱  u  + 2⋅u  + 1  ⎛ 2    ⎞   ⎥\n",
       "⎢                         ╱   ───────────── ⋅⎝u  - 1⎠   ⎥\n",
       "⎢                        ╱           2                  ⎥\n",
       "⎢                      ╲╱           u                   ⎥\n",
       "⎢         0            ──────────────────────────────  0⎥\n",
       "⎢                                   ⎛ 2    ⎞            ⎥\n",
       "⎣                               2⋅u⋅⎝u  + 1⎠            ⎦"
      ]
     },
     "execution_count": 14,
     "metadata": {},
     "output_type": "execute_result"
    }
   ],
   "source": [
    "gl=grad.subs([(r_1x,ua[0]),(r_1y,ua[1]),(r_1z,ua[2]),\n",
    "              (r_2x,ub[0]),(r_2y,ub[1]),(r_2z,ub[2]),\n",
    "              (r_3x,uc[0]),(r_3y,uc[1]),(r_3z,uc[2]) ])\n",
    "gl.simplify()\n",
    "gl"
   ]
  },
  {
   "cell_type": "code",
   "execution_count": 15,
   "metadata": {},
   "outputs": [
    {
     "data": {
      "image/png": "[encoded data removed]",
      "text/latex": [
       "$$\\left[\\begin{matrix}-500.0 & 249999.75 & 0\\\\500.0 & 249999.75 & 0\\\\0 & -499999.5 & 0\\end{matrix}\\right]$$"
      ],
      "text/plain": [
       "⎡-500.0  249999.75  0⎤\n",
       "⎢                    ⎥\n",
       "⎢500.0   249999.75  0⎥\n",
       "⎢                    ⎥\n",
       "⎣  0     -499999.5  0⎦"
      ]
     },
     "execution_count": 15,
     "metadata": {},
     "output_type": "execute_result"
    }
   ],
   "source": [
    "gl.subs(u,.001)"
   ]
  },
  {
   "cell_type": "markdown",
   "metadata": {},
   "source": [
    "### Inverse radius\n",
    "\n",
    "The following shows that although the inverse radius for three collinear points is zero, its gradient is undefined. (It is finite, but depends on the direction of approach)."
   ]
  },
  {
   "cell_type": "code",
   "execution_count": 16,
   "metadata": {},
   "outputs": [
    {
     "data": {
      "image/png": "[encoded data removed]",
      "text/latex": [
       "$$\\left[\\begin{matrix}\\frac{2}{\\sqrt{\\frac{1}{u^{2}} \\left(u^{2} + 1\\right)^{2}} \\left(u^{2} + 1\\right)} & \\frac{u^{2} - 1}{u \\sqrt{\\frac{1}{u^{2}} \\left(u^{2} + 1\\right)^{2}} \\left(u^{2} + 1\\right)} & 0\\\\- \\frac{2}{\\sqrt{\\frac{1}{u^{2}} \\left(u^{4} + 2 u^{2} + 1\\right)} \\left(u^{2} + 1\\right)} & \\frac{u^{2} - 1}{u \\sqrt{\\frac{1}{u^{2}} \\left(u^{2} + 1\\right)^{2}} \\left(u^{2} + 1\\right)} & 0\\\\0 & \\frac{- 2 u^{2} + 2}{u \\sqrt{\\frac{1}{u^{2}} \\left(u^{4} + 2 u^{2} + 1\\right)} \\left(u^{2} + 1\\right)} & 0\\end{matrix}\\right]$$"
      ],
      "text/plain": [
       "⎡                                              2                    ⎤\n",
       "⎢              2                              u  - 1                ⎥\n",
       "⎢ ───────────────────────────     ─────────────────────────────    0⎥\n",
       "⎢        ___________                       ___________              ⎥\n",
       "⎢       ╱         2                       ╱         2               ⎥\n",
       "⎢      ╱  ⎛ 2    ⎞                       ╱  ⎛ 2    ⎞                ⎥\n",
       "⎢     ╱   ⎝u  + 1⎠   ⎛ 2    ⎞           ╱   ⎝u  + 1⎠   ⎛ 2    ⎞     ⎥\n",
       "⎢    ╱    ───────── ⋅⎝u  + 1⎠     u⋅   ╱    ───────── ⋅⎝u  + 1⎠     ⎥\n",
       "⎢   ╱          2                      ╱          2                  ⎥\n",
       "⎢ ╲╱          u                     ╲╱          u                   ⎥\n",
       "⎢                                                                   ⎥\n",
       "⎢                                              2                    ⎥\n",
       "⎢             -2                              u  - 1                ⎥\n",
       "⎢──────────────────────────────   ─────────────────────────────    0⎥\n",
       "⎢      _______________                     ___________              ⎥\n",
       "⎢     ╱  4      2                         ╱         2               ⎥\n",
       "⎢    ╱  u  + 2⋅u  + 1  ⎛ 2    ⎞          ╱  ⎛ 2    ⎞                ⎥\n",
       "⎢   ╱   ───────────── ⋅⎝u  + 1⎠         ╱   ⎝u  + 1⎠   ⎛ 2    ⎞     ⎥\n",
       "⎢  ╱           2                  u⋅   ╱    ───────── ⋅⎝u  + 1⎠     ⎥\n",
       "⎢╲╱           u                       ╱          2                  ⎥\n",
       "⎢                                   ╲╱          u                   ⎥\n",
       "⎢                                                                   ⎥\n",
       "⎢                                                2                  ⎥\n",
       "⎢                                           - 2⋅u  + 2              ⎥\n",
       "⎢              0                 ────────────────────────────────  0⎥\n",
       "⎢                                        _______________            ⎥\n",
       "⎢                                       ╱  4      2                 ⎥\n",
       "⎢                                      ╱  u  + 2⋅u  + 1  ⎛ 2    ⎞   ⎥\n",
       "⎢                                u⋅   ╱   ───────────── ⋅⎝u  + 1⎠   ⎥\n",
       "⎢                                    ╱           2                  ⎥\n",
       "⎣                                  ╲╱           u                   ⎦"
      ]
     },
     "execution_count": 16,
     "metadata": {},
     "output_type": "execute_result"
    }
   ],
   "source": [
    "igl=ir_grad.subs([(r_1x,ua[0]),(r_1y,ua[1]),(r_1z,ua[2]),\n",
    "                  (r_2x,ub[0]),(r_2y,ub[1]),(r_2z,ub[2]),\n",
    "                  (r_3x,uc[0]),(r_3y,uc[1]),(r_3z,uc[2])  ])\n",
    "igl.simplify()\n",
    "igl"
   ]
  },
  {
   "cell_type": "code",
   "execution_count": 17,
   "metadata": {},
   "outputs": [
    {
     "data": {
      "image/png": "[encoded data removed]",
      "text/latex": [
       "$$\\left[\\begin{matrix}0.001999996000006 & -0.999997000005 & 0\\\\-0.001999996000006 & -0.999997000005 & 0\\\\0 & 1.99999400001 & 0\\end{matrix}\\right]$$"
      ],
      "text/plain": [
       "⎡0.001999996000006   -0.999997000005  0⎤\n",
       "⎢                                      ⎥\n",
       "⎢-0.001999996000006  -0.999997000005  0⎥\n",
       "⎢                                      ⎥\n",
       "⎣        0            1.99999400001   0⎦"
      ]
     },
     "execution_count": 17,
     "metadata": {},
     "output_type": "execute_result"
    }
   ],
   "source": [
    "igl.subs(u,.001)"
   ]
  },
  {
   "cell_type": "code",
   "execution_count": 18,
   "metadata": {},
   "outputs": [
    {
     "data": {
      "image/png": "[encoded data removed]",
      "text/latex": [
       "$$\\left[\\begin{matrix}0.001999996000006 & 0.999997000005 & 0\\\\-0.001999996000006 & 0.999997000005 & 0\\\\0 & -1.99999400001 & 0\\end{matrix}\\right]$$"
      ],
      "text/plain": [
       "⎡0.001999996000006   0.999997000005  0⎤\n",
       "⎢                                     ⎥\n",
       "⎢-0.001999996000006  0.999997000005  0⎥\n",
       "⎢                                     ⎥\n",
       "⎣        0           -1.99999400001  0⎦"
      ]
     },
     "execution_count": 18,
     "metadata": {},
     "output_type": "execute_result"
    }
   ],
   "source": [
    "igl.subs(u,-.001)"
   ]
  },
  {
   "cell_type": "code",
   "execution_count": 19,
   "metadata": {},
   "outputs": [
    {
     "data": {
      "image/png": "[encoded data removed]",
      "text/latex": [
       "$$-2$$"
      ],
      "text/plain": [
       "-2"
      ]
     },
     "execution_count": 19,
     "metadata": {},
     "output_type": "execute_result"
    }
   ],
   "source": [
    "limit(igl[2,1],u,0,\"-\")"
   ]
  },
  {
   "cell_type": "markdown",
   "metadata": {},
   "source": [
    "## Permutation invariance"
   ]
  },
  {
   "cell_type": "code",
   "execution_count": 20,
   "metadata": {},
   "outputs": [
    {
     "data": {
      "image/png": "[encoded data removed]",
      "text/latex": [
       "$$2.5$$"
      ],
      "text/plain": [
       "2.50000000000000"
      ]
     },
     "execution_count": 20,
     "metadata": {},
     "output_type": "execute_result"
    }
   ],
   "source": [
    "tb=tr*Matrix([1,0,0])\n",
    "tc=tr*Matrix([cos(tt),sin(tt),0])\n",
    "ta=tr*Matrix([cos(2*tt),sin(2*tt),0])\n",
    "\n",
    "R.subs([ (r_1x,ta[0]),(r_1y,ta[1]),(r_1z,ta[2]),\n",
    "         (r_2x,tb[0]),(r_2y,tb[1]),(r_2z,tb[2]),\n",
    "         (r_3x,tc[0]),(r_3y,tc[1]),(r_3z,tc[2]) ]).evalf()"
   ]
  },
  {
   "cell_type": "code",
   "execution_count": 21,
   "metadata": {},
   "outputs": [
    {
     "data": {
      "image/png": "[encoded data removed]",
      "text/latex": [
       "$$\\left[\\begin{matrix}20.9026351412097 & 9.30645276340483 & 0\\\\22.8807827419436 & 1.0 \\cdot 10^{-121} & 0\\\\-43.7834178831533 & -9.30645276340483 & 0\\end{matrix}\\right]$$"
      ],
      "text/plain": [
       "⎡20.9026351412097   9.30645276340483   0⎤\n",
       "⎢                                       ⎥\n",
       "⎢22.8807827419436        0.e-121       0⎥\n",
       "⎢                                       ⎥\n",
       "⎣-43.7834178831533  -9.30645276340483  0⎦"
      ]
     },
     "execution_count": 21,
     "metadata": {},
     "output_type": "execute_result"
    }
   ],
   "source": [
    "grad.subs([(r_1x,ta[0]),(r_1y,ta[1]),(r_1z,ta[2]),\n",
    "           (r_2x,tb[0]),(r_2y,tb[1]),(r_2z,tb[2]),\n",
    "           (r_3x,tc[0]),(r_3y,tc[1]),(r_3z,tc[2])]).evalf()"
   ]
  },
  {
   "cell_type": "markdown",
   "metadata": {},
   "source": [
    "# Sample printout\n",
    "\n",
    "The analytical expressions are lengthy. Here's for examples $\\partial R/\\partial r_{1y}$. (The index in square brackets is the Cartesian component, 0 to 2)."
   ]
  },
  {
   "cell_type": "code",
   "execution_count": 22,
   "metadata": {},
   "outputs": [
    {
     "data": {
      "image/png": "[encoded data removed]",
      "text/latex": [
       "$$\\frac{1}{2 \\left(r_{1x} - r_{3x}\\right)^{2} + 2 \\left(r_{1y} - r_{3y}\\right)^{2} + 2 \\left(r_{1z} - r_{3z}\\right)^{2}} \\sqrt{\\frac{\\left(r_{1x} - r_{3x}\\right)^{2} + \\left(r_{1y} - r_{3y}\\right)^{2} + \\left(r_{1z} - r_{3z}\\right)^{2}}{- \\frac{\\left(\\left(r_{1x} - r_{2x}\\right) \\left(r_{2x} - r_{3x}\\right) + \\left(r_{1y} - r_{2y}\\right) \\left(r_{2y} - r_{3y}\\right) + \\left(r_{1z} - r_{2z}\\right) \\left(r_{2z} - r_{3z}\\right)\\right)^{2}}{\\left(\\left(r_{1x} - r_{2x}\\right)^{2} + \\left(r_{1y} - r_{2y}\\right)^{2} + \\left(r_{1z} - r_{2z}\\right)^{2}\\right) \\left(\\left(r_{2x} - r_{3x}\\right)^{2} + \\left(r_{2y} - r_{3y}\\right)^{2} + \\left(r_{2z} - r_{3z}\\right)^{2}\\right)} + 1}} \\left(\\frac{2 r_{1y} - 2 r_{3y}}{- \\frac{2 \\left(\\left(r_{1x} - r_{2x}\\right) \\left(r_{2x} - r_{3x}\\right) + \\left(r_{1y} - r_{2y}\\right) \\left(r_{2y} - r_{3y}\\right) + \\left(r_{1z} - r_{2z}\\right) \\left(r_{2z} - r_{3z}\\right)\\right)^{2}}{\\left(\\left(r_{1x} - r_{2x}\\right)^{2} + \\left(r_{1y} - r_{2y}\\right)^{2} + \\left(r_{1z} - r_{2z}\\right)^{2}\\right) \\left(\\left(r_{2x} - r_{3x}\\right)^{2} + \\left(r_{2y} - r_{3y}\\right)^{2} + \\left(r_{2z} - r_{3z}\\right)^{2}\\right)} + 2} + \\frac{1}{2 \\left(- \\frac{\\left(\\left(r_{1x} - r_{2x}\\right) \\left(r_{2x} - r_{3x}\\right) + \\left(r_{1y} - r_{2y}\\right) \\left(r_{2y} - r_{3y}\\right) + \\left(r_{1z} - r_{2z}\\right) \\left(r_{2z} - r_{3z}\\right)\\right)^{2}}{\\left(\\left(r_{1x} - r_{2x}\\right)^{2} + \\left(r_{1y} - r_{2y}\\right)^{2} + \\left(r_{1z} - r_{2z}\\right)^{2}\\right) \\left(\\left(r_{2x} - r_{3x}\\right)^{2} + \\left(r_{2y} - r_{3y}\\right)^{2} + \\left(r_{2z} - r_{3z}\\right)^{2}\\right)} + 1\\right)^{2}} \\left(\\frac{\\left(- 2 r_{1y} + 2 r_{2y}\\right) \\left(\\left(r_{1x} - r_{2x}\\right) \\left(r_{2x} - r_{3x}\\right) + \\left(r_{1y} - r_{2y}\\right) \\left(r_{2y} - r_{3y}\\right) + \\left(r_{1z} - r_{2z}\\right) \\left(r_{2z} - r_{3z}\\right)\\right)^{2}}{\\left(\\left(r_{1x} - r_{2x}\\right)^{2} + \\left(r_{1y} - r_{2y}\\right)^{2} + \\left(r_{1z} - r_{2z}\\right)^{2}\\right)^{2} \\left(\\left(r_{2x} - r_{3x}\\right)^{2} + \\left(r_{2y} - r_{3y}\\right)^{2} + \\left(r_{2z} - r_{3z}\\right)^{2}\\right)} + \\frac{\\left(2 r_{2y} - 2 r_{3y}\\right) \\left(\\left(r_{1x} - r_{2x}\\right) \\left(r_{2x} - r_{3x}\\right) + \\left(r_{1y} - r_{2y}\\right) \\left(r_{2y} - r_{3y}\\right) + \\left(r_{1z} - r_{2z}\\right) \\left(r_{2z} - r_{3z}\\right)\\right)}{\\left(\\left(r_{1x} - r_{2x}\\right)^{2} + \\left(r_{1y} - r_{2y}\\right)^{2} + \\left(r_{1z} - r_{2z}\\right)^{2}\\right) \\left(\\left(r_{2x} - r_{3x}\\right)^{2} + \\left(r_{2y} - r_{3y}\\right)^{2} + \\left(r_{2z} - r_{3z}\\right)^{2}\\right)}\\right) \\left(\\left(r_{1x} - r_{3x}\\right)^{2} + \\left(r_{1y} - r_{3y}\\right)^{2} + \\left(r_{1z} - r_{3z}\\right)^{2}\\right)\\right) \\left(- \\frac{\\left(\\left(r_{1x} - r_{2x}\\right) \\left(r_{2x} - r_{3x}\\right) + \\left(r_{1y} - r_{2y}\\right) \\left(r_{2y} - r_{3y}\\right) + \\left(r_{1z} - r_{2z}\\right) \\left(r_{2z} - r_{3z}\\right)\\right)^{2}}{\\left(\\left(r_{1x} - r_{2x}\\right)^{2} + \\left(r_{1y} - r_{2y}\\right)^{2} + \\left(r_{1z} - r_{2z}\\right)^{2}\\right) \\left(\\left(r_{2x} - r_{3x}\\right)^{2} + \\left(r_{2y} - r_{3y}\\right)^{2} + \\left(r_{2z} - r_{3z}\\right)^{2}\\right)} + 1\\right)$$"
      ],
      "text/plain": [
       "                                                                              \n",
       "                                                                              \n",
       "                                                                              \n",
       "         _____________________________________________________________________\n",
       "        ╱                                         2                2          \n",
       "       ╱                               (r₁ₓ - r₃ₓ)  + (r_1y - r_3y)  + (r_1z -\n",
       "      ╱   ────────────────────────────────────────────────────────────────────\n",
       "     ╱                                                                        \n",
       "    ╱             ((r₁ₓ - r₂ₓ)⋅(r₂ₓ - r₃ₓ) + (r_1y - r_2y)⋅(r_2y - r_3y) + (r_\n",
       "   ╱      - ──────────────────────────────────────────────────────────────────\n",
       "  ╱         ⎛           2                2                2⎞ ⎛           2    \n",
       "╲╱          ⎝(r₁ₓ - r₂ₓ)  + (r_1y - r_2y)  + (r_1z - r_2z) ⎠⋅⎝(r₂ₓ - r₃ₓ)  + (\n",
       "                                                                              \n",
       "──────────────────────────────────────────────────────────────────────────────\n",
       "                                                                              \n",
       "                                                                              \n",
       "\n",
       "                                     ⎛                                        \n",
       "                                     ⎜                                        \n",
       "                                     ⎜                                        \n",
       "____________________________________ ⎜                                        \n",
       "      2                              ⎜                                        \n",
       " r_3z)                               ⎜                                        \n",
       "─────────────────────────────────── ⋅⎜────────────────────────────────────────\n",
       "                         2           ⎜  ⎛                                     \n",
       "1z - r_2z)⋅(r_2z - r_3z))            ⎜  ⎜        ((r₁ₓ - r₂ₓ)⋅(r₂ₓ - r₃ₓ) + (r\n",
       "─────────────────────────────── + 1  ⎜2⋅⎜- ───────────────────────────────────\n",
       "            2                2⎞      ⎜  ⎜  ⎛           2                2     \n",
       "r_2y - r_3y)  + (r_2z - r_3z) ⎠      ⎜  ⎝  ⎝(r₁ₓ - r₂ₓ)  + (r_1y - r_2y)  + (r\n",
       "                                     ⎝                                        \n",
       "──────────────────────────────────────────────────────────────────────────────\n",
       "                                                                              \n",
       "                                                                              \n",
       "\n",
       "                                                                      ⎛       \n",
       "                                                                      ⎜(-2⋅r_1\n",
       "                                                                      ⎜───────\n",
       "                                                                      ⎜       \n",
       "                                                                      ⎜    ⎛  \n",
       "      2⋅r_1y - 2⋅r_3y                                                 ⎝    ⎝(r\n",
       "─────────────────────────────────────────────────────────────────── + ────────\n",
       "                                                        2         ⎞           \n",
       "_1y - r_2y)⋅(r_2y - r_3y) + (r_1z - r_2z)⋅(r_2z - r_3z))          ⎟           \n",
       "────────────────────────────────────────────────────────────── + 1⎟           \n",
       "           2⎞ ⎛           2                2                2⎞    ⎟           \n",
       "_1z - r_2z) ⎠⋅⎝(r₂ₓ - r₃ₓ)  + (r_2y - r_3y)  + (r_2z - r_3z) ⎠    ⎠           \n",
       "                                                                              \n",
       "──────────────────────────────────────────────────────────────────────────────\n",
       "                                                                              \n",
       "                                                                              \n",
       "\n",
       "                                                                              \n",
       "y + 2⋅r_2y)⋅((r₁ₓ - r₂ₓ)⋅(r₂ₓ - r₃ₓ) + (r_1y - r_2y)⋅(r_2y - r_3y) + (r_1z - r\n",
       "──────────────────────────────────────────────────────────────────────────────\n",
       "                                             2                                \n",
       "         2                2                2⎞  ⎛           2                2 \n",
       "₁ₓ - r₂ₓ)  + (r_1y - r_2y)  + (r_1z - r_2z) ⎠ ⋅⎝(r₂ₓ - r₃ₓ)  + (r_2y - r_3y)  \n",
       "──────────────────────────────────────────────────────────────────────────────\n",
       "                                                                              \n",
       "                                                                       ⎛      \n",
       "                                                                       ⎜      \n",
       "                                                                     2⋅⎜- ────\n",
       "                                                                       ⎜  ⎛   \n",
       "                                                                       ⎝  ⎝(r₁\n",
       "──────────────────────────────────────────────────────────────────────────────\n",
       "                                         ⎛           2                2       \n",
       "                                       2⋅⎝(r₁ₓ - r₃ₓ)  + (r_1y - r_3y)  + (r_1\n",
       "\n",
       "                   2                                                          \n",
       "_2z)⋅(r_2z - r_3z))    (2⋅r_2y - 2⋅r_3y)⋅((r₁ₓ - r₂ₓ)⋅(r₂ₓ - r₃ₓ) + (r_1y - r_\n",
       "──────────────────── + ───────────────────────────────────────────────────────\n",
       "                          ⎛           2                2                2⎞ ⎛  \n",
       "               2⎞         ⎝(r₁ₓ - r₂ₓ)  + (r_1y - r_2y)  + (r_1z - r_2z) ⎠⋅⎝(r\n",
       "+ (r_2z - r_3z) ⎠                                                             \n",
       "──────────────────────────────────────────────────────────────────────────────\n",
       "                                                                              \n",
       "                                                                              \n",
       "  ((r₁ₓ - r₂ₓ)⋅(r₂ₓ - r₃ₓ) + (r_1y - r_2y)⋅(r_2y - r_3y) + (r_1z - r_2z)⋅(r_2z\n",
       "──────────────────────────────────────────────────────────────────────────────\n",
       "        2                2                2⎞ ⎛           2                2   \n",
       "ₓ - r₂ₓ)  + (r_1y - r_2y)  + (r_1z - r_2z) ⎠⋅⎝(r₂ₓ - r₃ₓ)  + (r_2y - r_3y)  + \n",
       "──────────────────────────────────────────────────────────────────────────────\n",
       "         2⎞                                                                   \n",
       "z - r_3z) ⎠                                                                   \n",
       "\n",
       "                                                ⎞                             \n",
       "2y)⋅(r_2y - r_3y) + (r_1z - r_2z)⋅(r_2z - r_3z))⎟ ⎛           2               \n",
       "────────────────────────────────────────────────⎟⋅⎝(r₁ₓ - r₃ₓ)  + (r_1y - r_3y\n",
       "         2                2                2⎞   ⎟                             \n",
       "₂ₓ - r₃ₓ)  + (r_2y - r_3y)  + (r_2z - r_3z) ⎠   ⎟                             \n",
       "                                                ⎠                             \n",
       "──────────────────────────────────────────────────────────────────────────────\n",
       "                    2                                                         \n",
       "         2         ⎞                                                          \n",
       " - r_3z))          ⎟                                                          \n",
       "─────────────── + 1⎟                                                          \n",
       "             2⎞    ⎟                                                          \n",
       "(r_2z - r_3z) ⎠    ⎠                                                          \n",
       "──────────────────────────────────────────────────────────────────────────────\n",
       "                                                                              \n",
       "                                                                              \n",
       "\n",
       "                    ⎞                                                         \n",
       " 2                2⎞⎟                                                         \n",
       ")  + (r_1z - r_3z) ⎠⎟                                                         \n",
       "                    ⎟                                                         \n",
       "                    ⎟ ⎛                                                       \n",
       "                    ⎟ ⎜        ((r₁ₓ - r₂ₓ)⋅(r₂ₓ - r₃ₓ) + (r_1y - r_2y)⋅(r_2y \n",
       "────────────────────⎟⋅⎜- ─────────────────────────────────────────────────────\n",
       "                    ⎟ ⎜  ⎛           2                2                2⎞ ⎛   \n",
       "                    ⎟ ⎝  ⎝(r₁ₓ - r₂ₓ)  + (r_1y - r_2y)  + (r_1z - r_2z) ⎠⋅⎝(r₂\n",
       "                    ⎟                                                         \n",
       "                    ⎟                                                         \n",
       "                    ⎟                                                         \n",
       "                    ⎠                                                         \n",
       "──────────────────────────────────────────────────────────────────────────────\n",
       "                                                                              \n",
       "                                                                              \n",
       "\n",
       "                                                 \n",
       "                                                 \n",
       "                                                 \n",
       "                                                 \n",
       "                                      2         ⎞\n",
       "- r_3y) + (r_1z - r_2z)⋅(r_2z - r_3z))          ⎟\n",
       "──────────────────────────────────────────── + 1⎟\n",
       "        2                2                2⎞    ⎟\n",
       "ₓ - r₃ₓ)  + (r_2y - r_3y)  + (r_2z - r_3z) ⎠    ⎠\n",
       "                                                 \n",
       "                                                 \n",
       "                                                 \n",
       "                                                 \n",
       "─────────────────────────────────────────────────\n",
       "                                                 \n",
       "                                                 "
      ]
     },
     "execution_count": 22,
     "metadata": {},
     "output_type": "execute_result"
    }
   ],
   "source": [
    "mgrad_1[1]"
   ]
  },
  {
   "cell_type": "markdown",
   "metadata": {},
   "source": [
    "We can replace the repeated  $|r_{ij}|^2$ subexpressions  to obtain a more readable form."
   ]
  },
  {
   "cell_type": "code",
   "execution_count": 23,
   "metadata": {},
   "outputs": [
    {
     "data": {
      "image/png": "[encoded data removed]",
      "text/latex": [
       "$$\\frac{\\sqrt{\\frac{d_{12}^{2} d_{13}^{2} d_{23}^{2}}{d_{12}^{2} d_{23}^{2} - \\left(\\left(r_{1x} - r_{2x}\\right) \\left(r_{2x} - r_{3x}\\right) + \\left(r_{1y} - r_{2y}\\right) \\left(r_{2y} - r_{3y}\\right) + \\left(r_{1z} - r_{2z}\\right) \\left(r_{2z} - r_{3z}\\right)\\right)^{2}}}}{2 d_{12}^{2} d_{13}^{2} \\left(d_{12}^{2} d_{23}^{2} - \\left(\\left(r_{1x} - r_{2x}\\right) \\left(r_{2x} - r_{3x}\\right) + \\left(r_{1y} - r_{2y}\\right) \\left(r_{2y} - r_{3y}\\right) + \\left(r_{1z} - r_{2z}\\right) \\left(r_{2z} - r_{3z}\\right)\\right)^{2}\\right)} \\left(d_{12}^{2} \\left(r_{1y} - r_{3y}\\right) \\left(d_{12}^{2} d_{23}^{2} - \\left(\\left(r_{1x} - r_{2x}\\right) \\left(r_{2x} - r_{3x}\\right) + \\left(r_{1y} - r_{2y}\\right) \\left(r_{2y} - r_{3y}\\right) + \\left(r_{1z} - r_{2z}\\right) \\left(r_{2z} - r_{3z}\\right)\\right)^{2}\\right) + d_{13}^{2} \\left(d_{12}^{2} \\left(r_{2y} - r_{3y}\\right) + \\left(- r_{1y} + r_{2y}\\right) \\left(\\left(r_{1x} - r_{2x}\\right) \\left(r_{2x} - r_{3x}\\right) + \\left(r_{1y} - r_{2y}\\right) \\left(r_{2y} - r_{3y}\\right) + \\left(r_{1z} - r_{2z}\\right) \\left(r_{2z} - r_{3z}\\right)\\right)\\right) \\left(\\left(r_{1x} - r_{2x}\\right) \\left(r_{2x} - r_{3x}\\right) + \\left(r_{1y} - r_{2y}\\right) \\left(r_{2y} - r_{3y}\\right) + \\left(r_{1z} - r_{2z}\\right) \\left(r_{2z} - r_{3z}\\right)\\right)\\right)$$"
      ],
      "text/plain": [
       "      ________________________________________________________________________\n",
       "     ╱                                              2    2    2               \n",
       "    ╱                                            d₁₂ ⋅d₁₃ ⋅d₂₃                \n",
       "   ╱   ───────────────────────────────────────────────────────────────────────\n",
       "  ╱       2    2                                                              \n",
       "╲╱     d₁₂ ⋅d₂₃  - ((r₁ₓ - r₂ₓ)⋅(r₂ₓ - r₃ₓ) + (r_1y - r_2y)⋅(r_2y - r_3y) + (r\n",
       "──────────────────────────────────────────────────────────────────────────────\n",
       "                                                                              \n",
       "                                                                              \n",
       "\n",
       "____________________________                                                  \n",
       "                                                                              \n",
       "                             ⎛   2               ⎛   2    2                   \n",
       "─────────────────────────── ⋅⎝d₁₂ ⋅(r_1y - r_3y)⋅⎝d₁₂ ⋅d₂₃  - ((r₁ₓ - r₂ₓ)⋅(r₂\n",
       "                          2                                                   \n",
       "_1z - r_2z)⋅(r_2z - r_3z))                                                    \n",
       "──────────────────────────────────────────────────────────────────────────────\n",
       "                                                                              \n",
       "                                                                              \n",
       "\n",
       "                                                                              \n",
       "                                                                              \n",
       "                                                                     2⎞      2\n",
       "ₓ - r₃ₓ) + (r_1y - r_2y)⋅(r_2y - r_3y) + (r_1z - r_2z)⋅(r_2z - r_3z)) ⎠ + d₁₃ \n",
       "                                                                              \n",
       "                                                                              \n",
       "──────────────────────────────────────────────────────────────────────────────\n",
       "                2    2 ⎛   2    2                                             \n",
       "           2⋅d₁₂ ⋅d₁₃ ⋅⎝d₁₂ ⋅d₂₃  - ((r₁ₓ - r₂ₓ)⋅(r₂ₓ - r₃ₓ) + (r_1y - r_2y)⋅(\n",
       "\n",
       "                                                                              \n",
       "                                                                              \n",
       " ⎛   2                                                                        \n",
       "⋅⎝d₁₂ ⋅(r_2y - r_3y) + (-r_1y + r_2y)⋅((r₁ₓ - r₂ₓ)⋅(r₂ₓ - r₃ₓ) + (r_1y - r_2y)\n",
       "                                                                              \n",
       "                                                                              \n",
       "──────────────────────────────────────────────────────────────────────────────\n",
       "                                           2⎞                                 \n",
       "r_2y - r_3y) + (r_1z - r_2z)⋅(r_2z - r_3z)) ⎠                                 \n",
       "\n",
       "                                                                              \n",
       "                                                                              \n",
       "                                             ⎞                                \n",
       "⋅(r_2y - r_3y) + (r_1z - r_2z)⋅(r_2z - r_3z))⎠⋅((r₁ₓ - r₂ₓ)⋅(r₂ₓ - r₃ₓ) + (r_1\n",
       "                                                                              \n",
       "                                                                              \n",
       "──────────────────────────────────────────────────────────────────────────────\n",
       "                                                                              \n",
       "                                                                              \n",
       "\n",
       "                                                       \n",
       "                                                       \n",
       "                                                      ⎞\n",
       "y - r_2y)⋅(r_2y - r_3y) + (r_1z - r_2z)⋅(r_2z - r_3z))⎠\n",
       "                                                       \n",
       "                                                       \n",
       "───────────────────────────────────────────────────────\n",
       "                                                       \n",
       "                                                       "
      ]
     },
     "execution_count": 23,
     "metadata": {},
     "output_type": "execute_result"
    }
   ],
   "source": [
    "repl = [ (r_12.dot(r_12), Symbol(\"d_12\")**2),\n",
    "         (r_23.dot(r_23), Symbol(\"d_23\")**2),\n",
    "         (r_13.dot(r_13), Symbol(\"d_13\")**2)]\n",
    "\n",
    "mgrad_1[1].subs(repl).simplify()"
   ]
  },
  {
   "cell_type": "markdown",
   "metadata": {},
   "source": [
    "# Gradients with respect to distances\n",
    "\n",
    "Depending on the problem at hand and number of involved atoms, it may be more natural to differentiate with respect to *distances*, and then apply the chain rule in the calling code.  In the specific case of the radius of cuvature, there are 3 coordinates as well as 3 coordinate differences: the number of components of the gradients is the same in both cases, but derivatives w.r.t. distances are more compact, so there is an advantage. \n",
    "\n",
    "This is the same code as before, after replacing distances with unevaluated symbols. **Warning:** this cell overwrites the previous symbols!"
   ]
  },
  {
   "cell_type": "code",
   "execution_count": 24,
   "metadata": {},
   "outputs": [
    {
     "data": {
      "image/png": "[encoded data removed]",
      "text/latex": [
       "$$\\frac{1}{2} \\sqrt{\\frac{r_{13x}^{2} + r_{13y}^{2} + r_{13z}^{2}}{1 - \\frac{\\left(r_{12x} r_{23x} + r_{12y} r_{23y} + r_{12z} r_{23z}\\right)^{2}}{\\left(r_{12x}^{2} + r_{12y}^{2} + r_{12z}^{2}\\right) \\left(r_{23x}^{2} + r_{23y}^{2} + r_{23z}^{2}\\right)}}}$$"
      ],
      "text/plain": [
       "         _________________________________________________________\n",
       "        ╱                     2        2        2                 \n",
       "       ╱                  r₁₃ₓ  + r_13y  + r_13z                  \n",
       "      ╱   ─────────────────────────────────────────────────────── \n",
       "     ╱                                                     2      \n",
       "    ╱               (r₁₂ₓ⋅r₂₃ₓ + r_12y⋅r_23y + r_12z⋅r_23z)       \n",
       "   ╱      1 - ─────────────────────────────────────────────────── \n",
       "  ╱           ⎛    2        2        2⎞ ⎛    2        2        2⎞ \n",
       "╲╱            ⎝r₁₂ₓ  + r_12y  + r_12z ⎠⋅⎝r₂₃ₓ  + r_23y  + r_23z ⎠ \n",
       "──────────────────────────────────────────────────────────────────\n",
       "                                2                                 "
      ]
     },
     "execution_count": 24,
     "metadata": {},
     "output_type": "execute_result"
    }
   ],
   "source": [
    "r_12=Matrix([Symbol(\"r_12x\"),Symbol(\"r_12y\"),Symbol(\"r_12z\")])\n",
    "r_13=Matrix([Symbol(\"r_13x\"),Symbol(\"r_13y\"),Symbol(\"r_13z\")])\n",
    "r_23=Matrix([Symbol(\"r_23x\"),Symbol(\"r_23y\"),Symbol(\"r_23z\")])\n",
    "\n",
    "side2 = r_13.dot(r_13)\n",
    "cos2a = r_12.dot(r_23)**2 / (r_12.dot(r_12) * r_23.dot(r_23))\n",
    "sin2a = 1-cos2a\n",
    "\n",
    "R2 = side2/sin2a/4\n",
    "\n",
    "R=sqrt(R2)\n",
    "R"
   ]
  },
  {
   "cell_type": "markdown",
   "metadata": {},
   "source": [
    "Inspect e.g. $\\partial R / \\partial r_{12x}$ :"
   ]
  },
  {
   "cell_type": "code",
   "execution_count": 25,
   "metadata": {},
   "outputs": [
    {
     "data": {
      "image/png": "[encoded data removed]",
      "text/latex": [
       "$$\\frac{\\sqrt{\\frac{r_{13x}^{2} + r_{13y}^{2} + r_{13z}^{2}}{1 - \\frac{\\left(r_{12x} r_{23x} + r_{12y} r_{23y} + r_{12z} r_{23z}\\right)^{2}}{\\left(r_{12x}^{2} + r_{12y}^{2} + r_{12z}^{2}\\right) \\left(r_{23x}^{2} + r_{23y}^{2} + r_{23z}^{2}\\right)}}}}{4 - \\frac{4 \\left(r_{12x} r_{23x} + r_{12y} r_{23y} + r_{12z} r_{23z}\\right)^{2}}{\\left(r_{12x}^{2} + r_{12y}^{2} + r_{12z}^{2}\\right) \\left(r_{23x}^{2} + r_{23y}^{2} + r_{23z}^{2}\\right)}} \\left(- \\frac{2 r_{12x} \\left(r_{12x} r_{23x} + r_{12y} r_{23y} + r_{12z} r_{23z}\\right)^{2}}{\\left(r_{12x}^{2} + r_{12y}^{2} + r_{12z}^{2}\\right)^{2} \\left(r_{23x}^{2} + r_{23y}^{2} + r_{23z}^{2}\\right)} + \\frac{2 r_{23x} \\left(r_{12x} r_{23x} + r_{12y} r_{23y} + r_{12z} r_{23z}\\right)}{\\left(r_{12x}^{2} + r_{12y}^{2} + r_{12z}^{2}\\right) \\left(r_{23x}^{2} + r_{23y}^{2} + r_{23z}^{2}\\right)}\\right)$$"
      ],
      "text/plain": [
       "         _________________________________________________________            \n",
       "        ╱                     2        2        2                  ⎛          \n",
       "       ╱                  r₁₃ₓ  + r_13y  + r_13z                   ⎜    2⋅r₁₂ₓ\n",
       "      ╱   ─────────────────────────────────────────────────────── ⋅⎜- ────────\n",
       "     ╱                                                     2       ⎜          \n",
       "    ╱               (r₁₂ₓ⋅r₂₃ₓ + r_12y⋅r_23y + r_12z⋅r_23z)        ⎜  ⎛    2  \n",
       "   ╱      1 - ───────────────────────────────────────────────────  ⎝  ⎝r₁₂ₓ  +\n",
       "  ╱           ⎛    2        2        2⎞ ⎛    2        2        2⎞             \n",
       "╲╱            ⎝r₁₂ₓ  + r_12y  + r_12z ⎠⋅⎝r₂₃ₓ  + r_23y  + r_23z ⎠             \n",
       "──────────────────────────────────────────────────────────────────────────────\n",
       "                                                             ⎛                \n",
       "                                                             ⎜          (r₁₂ₓ⋅\n",
       "                                                           4⋅⎜1 - ────────────\n",
       "                                                             ⎜    ⎛    2      \n",
       "                                                             ⎝    ⎝r₁₂ₓ  + r_1\n",
       "\n",
       "                                                                              \n",
       "                                        2                                     \n",
       "⋅(r₁₂ₓ⋅r₂₃ₓ + r_12y⋅r_23y + r_12z⋅r_23z)          2⋅r₂₃ₓ⋅(r₁₂ₓ⋅r₂₃ₓ + r_12y⋅r_\n",
       "──────────────────────────────────────────── + ───────────────────────────────\n",
       "                 2                             ⎛    2        2        2⎞ ⎛    \n",
       "      2        2⎞  ⎛    2        2        2⎞   ⎝r₁₂ₓ  + r_12y  + r_12z ⎠⋅⎝r₂₃ₓ\n",
       " r_12y  + r_12z ⎠ ⋅⎝r₂₃ₓ  + r_23y  + r_23z ⎠                                  \n",
       "                                                                              \n",
       "                                                                              \n",
       "──────────────────────────────────────────────────────────────────────────────\n",
       "                                 2     ⎞                                      \n",
       "r₂₃ₓ + r_12y⋅r_23y + r_12z⋅r_23z)      ⎟                                      \n",
       "───────────────────────────────────────⎟                                      \n",
       "  2        2⎞ ⎛    2        2        2⎞⎟                                      \n",
       "2y  + r_12z ⎠⋅⎝r₂₃ₓ  + r_23y  + r_23z ⎠⎠                                      \n",
       "\n",
       "                     \n",
       "                    ⎞\n",
       "23y + r_12z⋅r_23z)  ⎟\n",
       "────────────────────⎟\n",
       "2        2        2⎞⎟\n",
       "  + r_23y  + r_23z ⎠⎟\n",
       "                    ⎠\n",
       "                     \n",
       "                     \n",
       "─────────────────────\n",
       "                     \n",
       "                     \n",
       "                     \n",
       "                     \n",
       "                     "
      ]
     },
     "execution_count": 25,
     "metadata": {},
     "output_type": "execute_result"
    }
   ],
   "source": [
    "derive_by_array(R,r_12)[0]"
   ]
  },
  {
   "cell_type": "markdown",
   "metadata": {},
   "source": [
    "Code generation is also straightforward. Here we do with it with all components at once.\n",
    "\n",
    "The caller should then apply the chain rule to obtain the atomwise generalized force\n",
    "components to pass to PLUMED, e.g. \n",
    "\n",
    "$${\\partial R \\over \\partial r_{1x}} = \n",
    "{\\partial R \\over \\partial r_{12x}}{\\partial r_{12x} \\over \\partial r_{1x} } + \n",
    "{\\partial R \\over \\partial r_{13x}}{\\partial r_{13x} \\over \\partial r_{1x} } $$\n",
    "\n",
    "and so on.   LHS is the gradient to be passed to the engine; \n",
    "  RHS has terms computed above times terms which are $\\pm 1$. "
   ]
  },
  {
   "cell_type": "code",
   "execution_count": 26,
   "metadata": {},
   "outputs": [],
   "source": [
    "r_all=Matrix([r_12,r_13,r_23])\n",
    "\n",
    "codegen([ (\"curvature_radius_dist\",R),\n",
    "          (\"curvature_radius_grad_dist\",   \n",
    "                Eq(MatrixSymbol(\"g\",9,1),\n",
    "                   derive_by_array(R,r_all) ))],\n",
    "             to_files=True,\n",
    "             prefix=\"curvature_codegen_dist\",\n",
    "             project=\"plumed_curvature\",\n",
    "             language=\"C\")\n"
   ]
  },
  {
   "cell_type": "markdown",
   "metadata": {},
   "source": [
    "# Version check\n",
    "\n",
    "This notebook was current on SymPy version..."
   ]
  },
  {
   "cell_type": "code",
   "execution_count": 4,
   "metadata": {},
   "outputs": [
    {
     "data": {
      "text/plain": [
       "'1.0'"
      ]
     },
     "execution_count": 4,
     "metadata": {},
     "output_type": "execute_result"
    }
   ],
   "source": [
    "import sympy\n",
    "sympy.__version__"
   ]
  },
  {
   "cell_type": "code",
   "execution_count": 7,
   "metadata": {},
   "outputs": [
    {
     "data": {
      "text/plain": [
       "'3.6.4'"
      ]
     },
     "execution_count": 7,
     "metadata": {},
     "output_type": "execute_result"
    }
   ],
   "source": [
    "import platform\n",
    "platform.python_version()"
   ]
  },
  {
   "cell_type": "markdown",
   "metadata": {},
   "source": [
    "# Interactive console"
   ]
  },
  {
   "cell_type": "code",
   "execution_count": 14,
   "metadata": {},
   "outputs": [],
   "source": [
    "# Run the following command for an interactive console:\n",
    "# %qtconsole"
   ]
  }
 ],
 "metadata": {
  "kernelspec": {
   "display_name": "Python 3",
   "language": "python",
   "name": "python3"
  },
  "language_info": {
   "codemirror_mode": {
    "name": "ipython",
    "version": 3
   },
   "file_extension": ".py",
   "mimetype": "text/x-python",
   "name": "python",
   "nbconvert_exporter": "python",
   "pygments_lexer": "ipython3",
   "version": "3.6.4"
  }
 },
 "nbformat": 4,
 "nbformat_minor": 1
}
